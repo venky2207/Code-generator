{
  "nbformat": 4,
  "nbformat_minor": 0,
  "metadata": {
    "colab": {
      "provenance": [],
      "authorship_tag": "ABX9TyNNmrsvUvLZOPwdcL6NbZXA",
      "include_colab_link": true
    },
    "kernelspec": {
      "name": "python3",
      "display_name": "Python 3"
    },
    "language_info": {
      "name": "python"
    }
  },
  "cells": [
    {
      "cell_type": "markdown",
      "metadata": {
        "id": "view-in-github",
        "colab_type": "text"
      },
      "source": [
        "<a href=\"https://colab.research.google.com/gist/venky2207/b65083456608baf584df4850c2c30af9/code-generator.ipynb\" target=\"_parent\"><img src=\"https://colab.research.google.com/assets/colab-badge.svg\" alt=\"Open In Colab\"/></a>"
      ]
    },
    {
      "cell_type": "markdown",
      "source": [
        "**Code Generation** mean Encrpytion and Decryption of the data.\n",
        "\n",
        "**Encryption:**\n",
        "Encryption is the process of encoding the data. i.e converting plain text into ciphertext. This conversion is done with a key called an encryption key.\n",
        "\n",
        "**Decryption:**\n",
        "Decryption is the process of decoding the encoded data. Converting the ciphertext into plain text. This process requires a key that we used for encryption.\n",
        "\n",
        "We require a key for encryption. There are two main types of keys used for encryption and decryption. They are    \n",
        "**1.Symmetric-key**  \n",
        "**2.Asymmetric-key.**\n"
      ],
      "metadata": {
        "id": "9OL7mnL2iSwB"
      }
    },
    {
      "cell_type": "markdown",
      "source": [
        "**Symmentric Key Encryption:**\n",
        "In symmetric-key encryption, the data is encoded and decoded with the same key. This is the easiest way of encryption, but also less secure. The receiver needs the key for decryption, so a safe way need for transferring keys. Anyone with the key can read the data in the middle.\n",
        "\n",
        "Needed modules for this encryption is cryptography and Fernet\n",
        "\n",
        "For installation of cryptography we need pip install cryptography"
      ],
      "metadata": {
        "id": "eaP7JYV0j3um"
      }
    },
    {
      "cell_type": "code",
      "execution_count": null,
      "metadata": {
        "id": "egKlnnAIVWEM",
        "colab": {
          "base_uri": "https://localhost:8080/"
        },
        "outputId": "cecf8695-c484-45cf-cce7-ca6d89948e8c"
      },
      "outputs": [
        {
          "output_type": "stream",
          "name": "stdout",
          "text": [
            "Looking in indexes: https://pypi.org/simple, https://us-python.pkg.dev/colab-wheels/public/simple/\n",
            "Collecting cryptography\n",
            "  Downloading cryptography-38.0.4-cp36-abi3-manylinux_2_24_x86_64.whl (4.0 MB)\n",
            "\u001b[K     |████████████████████████████████| 4.0 MB 25.7 MB/s \n",
            "\u001b[?25hRequirement already satisfied: cffi>=1.12 in /usr/local/lib/python3.8/dist-packages (from cryptography) (1.15.1)\n",
            "Requirement already satisfied: pycparser in /usr/local/lib/python3.8/dist-packages (from cffi>=1.12->cryptography) (2.21)\n",
            "Installing collected packages: cryptography\n",
            "Successfully installed cryptography-38.0.4\n"
          ]
        }
      ],
      "source": [
        "!pip install cryptography\n",
        "from cryptography.fernet import Fernet"
      ]
    },
    {
      "cell_type": "code",
      "source": [
        "msg = input(\"Enter a msg:\")"
      ],
      "metadata": {
        "colab": {
          "base_uri": "https://localhost:8080/"
        },
        "id": "mYKukHtQmCGG",
        "outputId": "d50bd545-1ef4-4a6e-9540-42083378443a"
      },
      "execution_count": null,
      "outputs": [
        {
          "name": "stdout",
          "output_type": "stream",
          "text": [
            "Enter a msg:Hello and bye\n"
          ]
        }
      ]
    },
    {
      "cell_type": "markdown",
      "source": [
        "Creating a key for implementation"
      ],
      "metadata": {
        "id": "Nlp_xOjYmWwF"
      }
    },
    {
      "cell_type": "code",
      "source": [
        "key = Fernet.generate_key()\n",
        "fernet = Fernet(key)#Instance"
      ],
      "metadata": {
        "id": "Uo036B-fmc-v"
      },
      "execution_count": null,
      "outputs": []
    },
    {
      "cell_type": "markdown",
      "source": [
        "Encrypting and Decrypting the msg"
      ],
      "metadata": {
        "id": "6x_qRDiJm0LI"
      }
    },
    {
      "cell_type": "code",
      "source": [
        "encmsg = fernet.encrypt(msg.encode())\n",
        "print(\"original string: \", msg)\n",
        "print(\"encrypted string: \", encmsg)\n",
        "\n",
        "decmsg = fernet.decrypt(encmsg).decode()\n",
        "print(\"decrypted string: \", decmsg)"
      ],
      "metadata": {
        "colab": {
          "base_uri": "https://localhost:8080/"
        },
        "id": "YAsADb-0m65c",
        "outputId": "ffb2ffb4-6350-4b34-f935-b5d8520b5d06"
      },
      "execution_count": null,
      "outputs": [
        {
          "output_type": "stream",
          "name": "stdout",
          "text": [
            "original string:  Hello and bye\n",
            "encrypted string:  b'gAAAAABjsAgXMEwk3aCzljCZdrYTo6l50kSzO9DCHXnJ3cAmTsE2-h7cNGqWdnPiYzy-ivtJKG6EjkMcEfq-lUZaZWPk1H6BFQ=='\n",
            "decrypted string:  Hello and bye\n"
          ]
        }
      ]
    },
    {
      "cell_type": "markdown",
      "source": [
        "**Asymmetric-key Encryption:**\n",
        "In Asymmetric-key Encryption, we use two keys a public key and a private key. The public key is used to encrypt the data and the private key is used to decrypt the data. By the name, the public key can be public (can be sent to anyone who needs to send data). No one has your private key, so no one in the middle can read your data.\n",
        "\n",
        "Needed modules for this is rsa to install pip install rsa"
      ],
      "metadata": {
        "id": "HpPgy_1ZoA6b"
      }
    },
    {
      "cell_type": "code",
      "source": [
        "!pip install rsa\n",
        "import rsa"
      ],
      "metadata": {
        "id": "3eBXqVQoo6Mi",
        "colab": {
          "base_uri": "https://localhost:8080/"
        },
        "outputId": "b428a66f-4684-4bc6-86a8-5f854c53e765"
      },
      "execution_count": null,
      "outputs": [
        {
          "output_type": "stream",
          "name": "stdout",
          "text": [
            "Looking in indexes: https://pypi.org/simple, https://us-python.pkg.dev/colab-wheels/public/simple/\n",
            "Requirement already satisfied: rsa in /usr/local/lib/python3.8/dist-packages (4.9)\n",
            "Requirement already satisfied: pyasn1>=0.1.3 in /usr/local/lib/python3.8/dist-packages (from rsa) (0.4.8)\n"
          ]
        }
      ]
    },
    {
      "cell_type": "markdown",
      "source": [
        "Creating the keys"
      ],
      "metadata": {
        "id": "WL2nN7YFqh7j"
      }
    },
    {
      "cell_type": "code",
      "source": [
        "publicKey, privateKey = rsa.newkeys(512)"
      ],
      "metadata": {
        "id": "q5kPDQgKqfmq"
      },
      "execution_count": null,
      "outputs": []
    },
    {
      "cell_type": "markdown",
      "source": [
        "Encryption and decryption of msg"
      ],
      "metadata": {
        "id": "CDCYPxZ7s26g"
      }
    },
    {
      "cell_type": "code",
      "source": [
        "encMsg = rsa.encrypt(msg.encode(),publicKey)\n",
        "\n",
        "print(\"original string: \", msg)\n",
        "print(\"encrypted string: \", encMsg)\n",
        "\n",
        "decMsg = rsa.decrypt(encMsg, privateKey).decode()\n",
        " \n",
        "print(\"decrypted string: \", decMsg)"
      ],
      "metadata": {
        "colab": {
          "base_uri": "https://localhost:8080/"
        },
        "id": "Jl2QL4TXs7pj",
        "outputId": "56ea847a-27f3-4a55-eac6-c4712a99a731"
      },
      "execution_count": null,
      "outputs": [
        {
          "output_type": "stream",
          "name": "stdout",
          "text": [
            "original string:  Hello and bye\n",
            "encrypted string:  b'#\\xe7F7a4\\xab\\t\\xd9\\xf0t\\xee/\\xf9Z&IP\\n\\xdd\\x96\\xdc\\x9c\\xadn\\x8a\\xf4ws\\xdcD\\xb1\\xf56\\xb3\\x0eq\\x83\\xf2\\xbd\\xff\\xd5\\x01\\x1a)\\x97D\\xb7\\x89\\xbe{\\x869\\xe4}9\\xfa\\xf7\\\\\\xef\\x86\\xe1\\xe34'\n",
            "decrypted string:  Hello and bye\n"
          ]
        }
      ]
    },
    {
      "cell_type": "markdown",
      "source": [
        "Encryption and Decryption of Files\n"
      ],
      "metadata": {
        "id": "kzLgMAQUtaYT"
      }
    },
    {
      "cell_type": "code",
      "source": [
        "class Encryptor():\n",
        "\n",
        "    def key_create(self):\n",
        "        key = Fernet.generate_key()\n",
        "        return key\n",
        "\n",
        "    def key_write(self, key, key_name):\n",
        "        with open(key_name, 'wb') as mykey:\n",
        "            mykey.write(key)\n",
        "\n",
        "    def key_load(self, key_name):\n",
        "        with open(key_name, 'rb') as mykey:\n",
        "            key = mykey.read()\n",
        "        return key\n",
        "\n",
        "\n",
        "    def file_encrypt(self, key, original_file, encrypted_file):\n",
        "        \n",
        "        f = Fernet(key)\n",
        "\n",
        "        with open(original_file, 'rb') as file:\n",
        "            original = file.read()\n",
        "\n",
        "        encrypted = f.encrypt(original)\n",
        "\n",
        "        with open (encrypted_file, 'wb') as file:\n",
        "            file.write(encrypted)\n",
        "\n",
        "    def file_decrypt(self, key, encrypted_file, decrypted_file):\n",
        "        \n",
        "        f = Fernet(key)\n",
        "\n",
        "        with open(encrypted_file, 'rb') as file:\n",
        "            encrypted = file.read()\n",
        "\n",
        "        decrypted = f.decrypt(encrypted)\n",
        "\n",
        "        with open(decrypted_file, 'wb') as file:\n",
        "            file.write(decrypted)"
      ],
      "metadata": {
        "id": "EzaMSQFYt9Sm"
      },
      "execution_count": null,
      "outputs": []
    },
    {
      "cell_type": "markdown",
      "source": [
        "Here the files sent in Symmentric Key Encryption."
      ],
      "metadata": {
        "id": "bOjp371zuL7q"
      }
    }
  ]
}